{
 "cells": [
  {
   "cell_type": "markdown",
   "metadata": {},
   "source": [
    "# Program to find the dielectric constant using  \n",
    "$\\epsilon = 1 + \\frac{4 \\pi<M^{2}>}{3K_{b}\\epsilon_{0}TV}$ (CGS units)\n",
    "\n",
    "M(Polarization) = debye $\\implies$ statC.cm\n",
    "<br>\n",
    "$\\epsilon_{0}$(Vaccum Permittivity) $\\implies$ 1\n",
    "<br>\n",
    "$K_{b}$(Boltzmann constant) $\\implies$ 1.3807 × 10-16 $cm^{2}gs^{-2}K^{-1}$\n",
    "<br>\n",
    "T(Temperature) $\\implies$ Kelvin\n",
    "<br>\n",
    "V(Volume) = $A^{3}$ $\\implies$ $cm^{3}$"
   ]
  },
  {
   "cell_type": "code",
   "execution_count": 1,
   "metadata": {},
   "outputs": [
    {
     "name": "stdout",
     "output_type": "stream",
     "text": [
      "[20.60279546 23.98707807 26.97083065 69.56070399]\n"
     ]
    }
   ],
   "source": [
    "import numpy as np \n",
    "epsilon_arr = []\n",
    "d1 = np.loadtxt('./dipole.dat')\n",
    "xdip = d1[:,1]\n",
    "ydip = d1[:,2]\n",
    "zdip = d1[:,3]\n",
    "tdip = d1[:,4]\n",
    "\n",
    "#<M^2>(units => debye^2)\n",
    "xdip_sqavg = np.mean(np.square(xdip))\n",
    "ydip_sqavg = np.mean(np.square(ydip))\n",
    "zdip_sqavg = np.mean(np.square(zdip))\n",
    "tdip_sqavg = np.mean(np.square(tdip))\n",
    "\n",
    "num_x = xdip_sqavg\n",
    "num_y = ydip_sqavg\n",
    "num_z = zdip_sqavg\n",
    "num_t = tdip_sqavg\n",
    "\n",
    "rhs_x = 1+((4*np.pi*num_x*pow(10,-36))/(3*(40077.044e-24)*(1.38064e-16)*300))\n",
    "rhs_y = 1+((4*np.pi*num_y*pow(10,-36))/(3*(40077.044e-24)*(1.38064e-16)*300))\n",
    "rhs_z = 1+((4*np.pi*num_z*pow(10,-36))/(3*(40077.044e-24)*(1.38064e-16)*300))\n",
    "rhs_t = 1+((4*np.pi*num_t*pow(10,-36))/(3*(40077.044e-24)*(1.38064e-16)*300))\n",
    "\n",
    "\n",
    "epsilon_x = rhs_x\n",
    "epsilon_y = rhs_y\n",
    "epsilon_z = rhs_z\n",
    "epsilon_t = rhs_t\n",
    "\n",
    "\n",
    "epsilon_arr.append(epsilon_x)\n",
    "epsilon_arr.append(epsilon_y)\n",
    "epsilon_arr.append(epsilon_z)\n",
    "epsilon_arr.append(epsilon_t)\n",
    "\n",
    "epsilon = np.transpose(epsilon_arr)\n",
    "print(epsilon)"
   ]
  },
  {
   "cell_type": "code",
   "execution_count": null,
   "metadata": {},
   "outputs": [],
   "source": []
  }
 ],
 "metadata": {
  "kernelspec": {
   "display_name": "Python 2",
   "language": "python",
   "name": "python2"
  },
  "language_info": {
   "codemirror_mode": {
    "name": "ipython",
    "version": 2
   },
   "file_extension": ".py",
   "mimetype": "text/x-python",
   "name": "python",
   "nbconvert_exporter": "python",
   "pygments_lexer": "ipython2",
   "version": "2.7.12"
  }
 },
 "nbformat": 4,
 "nbformat_minor": 2
}
